{
 "cells": [
  {
   "cell_type": "code",
   "execution_count": 2,
   "metadata": {},
   "outputs": [
    {
     "name": "stdout",
     "output_type": "stream",
     "text": [
      "请输入用户名：admin\n",
      "请输入口令：123456\n",
      "身份验证成功\n"
     ]
    }
   ],
   "source": [
    "# 身份认证\n",
    "username = input('请输入用户名：')\n",
    "password =input('请输入口令：')\n",
    "if username == 'admin' and password == '123456':\n",
    "    print('身份验证成功')\n",
    "else:\n",
    "    print('身份验证失败')"
   ]
  },
  {
   "cell_type": "code",
   "execution_count": 5,
   "metadata": {},
   "outputs": [
    {
     "name": "stdout",
     "output_type": "stream",
     "text": [
      "x=-2\n",
      "f(-2.00) = -7.00\n"
     ]
    }
   ],
   "source": [
    "#分段函数求值\n",
    "x = float(input('x='))\n",
    "if x > 1:\n",
    "    y = 3*x-5\n",
    "elif x >=-1:\n",
    "    y = x+2\n",
    "else:\n",
    "    y =5*x +3\n",
    "print('f(%.2f) = %.2f'%(x,y))"
   ]
  },
  {
   "cell_type": "code",
   "execution_count": 6,
   "metadata": {},
   "outputs": [
    {
     "name": "stdout",
     "output_type": "stream",
     "text": [
      "请输入长度：10\n",
      "请输入单位：in\n",
      "10.000000英寸 = 25.400000厘米\n"
     ]
    }
   ],
   "source": [
    "#英尺厘米转换\n",
    "value = float(input('请输入长度：'))\n",
    "unit = input('请输入单位：')\n",
    "if unit == 'in' or unit == '英寸':\n",
    "    print('%f英寸 = %f厘米' % (value, value * 2.54))\n",
    "elif unit == 'cm' or unit == '厘米':\n",
    "    print('%f厘米 = %f英寸' % (value, value / 2.54))\n",
    "else:\n",
    "    print('请输入有效的单位')"
   ]
  },
  {
   "cell_type": "code",
   "execution_count": 11,
   "metadata": {},
   "outputs": [
    {
     "name": "stdout",
     "output_type": "stream",
     "text": [
      "唱歌\n"
     ]
    }
   ],
   "source": [
    "#掷骰子决定做什么\n",
    "from random import randint\n",
    "face = randint(1,6)\n",
    "if face ==1:\n",
    "    result = '唱歌'\n",
    "elif face ==2:\n",
    "    result= '跳舞'\n",
    "elif face == 3:\n",
    "    result = 'read'\n",
    "elif face == 4:\n",
    "    result = 'dance'\n",
    "elif face == 5:\n",
    "    result = 'jump'\n",
    "elif face == 6:\n",
    "    result = 'kiss'\n",
    "\n",
    "print(result)\n"
   ]
  },
  {
   "cell_type": "code",
   "execution_count": 12,
   "metadata": {},
   "outputs": [
    {
     "name": "stdout",
     "output_type": "stream",
     "text": [
      "本月收入: 25000\n",
      "五险一金: 1000\n",
      "个人所得税: ￥4120.00元\n",
      "实际到手收入: ￥19880.00元\n"
     ]
    }
   ],
   "source": [
    "salary = float(input('本月收入: '))\n",
    "insurance = float(input('五险一金: '))\n",
    "diff = salary - insurance - 3500\n",
    "if diff <= 0:\n",
    "    rate = 0\n",
    "    deduction = 0\n",
    "elif diff < 1500:\n",
    "    rate = 0.03\n",
    "    deduction = 0\n",
    "elif diff < 4500:\n",
    "    rate = 0.1\n",
    "    deduction = 105\n",
    "elif diff < 9000:\n",
    "    rate = 0.2\n",
    "    deduction = 555\n",
    "elif diff < 35000:\n",
    "    rate = 0.25\n",
    "    deduction = 1005\n",
    "elif diff < 55000:\n",
    "    rate = 0.3\n",
    "    deduction = 2755\n",
    "elif diff < 80000:\n",
    "    rate = 0.35\n",
    "    deduction = 5505\n",
    "else:\n",
    "    rate = 0.45\n",
    "    deduction = 13505\n",
    "tax = abs(diff * rate - deduction)\n",
    "print('个人所得税: ￥%.2f元' % tax)\n",
    "print('实际到手收入: ￥%.2f元' % (diff + 3500 - tax))"
   ]
  },
  {
   "cell_type": "code",
   "execution_count": null,
   "metadata": {},
   "outputs": [],
   "source": []
  }
 ],
 "metadata": {
  "kernelspec": {
   "display_name": "Python 3",
   "language": "python",
   "name": "python3"
  },
  "language_info": {
   "codemirror_mode": {
    "name": "ipython",
    "version": 3
   },
   "file_extension": ".py",
   "mimetype": "text/x-python",
   "name": "python",
   "nbconvert_exporter": "python",
   "pygments_lexer": "ipython3",
   "version": "3.7.4"
  }
 },
 "nbformat": 4,
 "nbformat_minor": 2
}
